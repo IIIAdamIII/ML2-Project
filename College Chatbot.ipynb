{
 "cells": [
  {
   "cell_type": "code",
   "execution_count": 19,
   "id": "4d86034f",
   "metadata": {},
   "outputs": [],
   "source": [
    "import nltk\n",
    "import random\n",
    "import json\n",
    "from sklearn.model_selection import train_test_split, GridSearchCV\n",
    "from sklearn.feature_extraction.text import TfidfVectorizer\n",
    "from nltk.stem import WordNetLemmatizer\n",
    "from sklearn.linear_model import LogisticRegression\n",
    "from sklearn.naive_bayes import MultinomialNB\n",
    "from sklearn.tree import DecisionTreeClassifier\n",
    "from sklearn.ensemble import RandomForestClassifier\n",
    "from sklearn.svm import LinearSVC\n",
    "import warnings\n",
    "warnings.filterwarnings('ignore')\n",
    "from sklearn.metrics import accuracy_score"
   ]
  },
  {
   "cell_type": "code",
   "execution_count": 7,
   "id": "70b938a5",
   "metadata": {},
   "outputs": [
    {
     "name": "stderr",
     "output_type": "stream",
     "text": [
      "[nltk_data] Downloading package punkt to\n",
      "[nltk_data]     C:\\Users\\User\\AppData\\Roaming\\nltk_data...\n",
      "[nltk_data]   Package punkt is already up-to-date!\n",
      "[nltk_data] Downloading package stopwords to\n",
      "[nltk_data]     C:\\Users\\User\\AppData\\Roaming\\nltk_data...\n",
      "[nltk_data]   Package stopwords is already up-to-date!\n"
     ]
    },
    {
     "data": {
      "text/plain": [
       "True"
      ]
     },
     "execution_count": 7,
     "metadata": {},
     "output_type": "execute_result"
    }
   ],
   "source": [
    "nltk.download('punkt')\n",
    "nltk.download('stopwords')"
   ]
  },
  {
   "cell_type": "code",
   "execution_count": 18,
   "id": "7fb3c589",
   "metadata": {},
   "outputs": [],
   "source": [
    "with open('intents.json') as json_file:\n",
    "    intents = json.load(json_file)"
   ]
  },
  {
   "cell_type": "code",
   "execution_count": 21,
   "id": "19b97213",
   "metadata": {},
   "outputs": [],
   "source": [
    "text_data = []\n",
    "labels = []\n",
    "stopwords = set(nltk.corpus.stopwords.words('english'))\n",
    "lemmatizer = WordNetLemmatizer()\n",
    "\n",
    "for intent in intents['intents']:\n",
    "    for example in intent['patterns']:\n",
    "        tokens = nltk.word_tokenize(example.lower())\n",
    "        filtered_tokens = [lemmatizer.lemmatize(token) for token in tokens if token not in stopwords and token.isalpha()]\n",
    "        if filtered_tokens:\n",
    "            text_data.append(' '.join(filtered_tokens))\n",
    "            labels.append(intent['tag'])\n",
    "\n",
    "vectorizer = TfidfVectorizer()\n",
    "X = vectorizer.fit_transform(text_data)\n",
    "y = labels"
   ]
  },
  {
   "cell_type": "code",
   "execution_count": 22,
   "id": "bcb2ea4a",
   "metadata": {},
   "outputs": [],
   "source": [
    "def find_best_model(X, y, test_size=0.2):\n",
    "    X_train, X_test, y_train, y_test = train_test_split(X, y, test_size=test_size, random_state=42)\n",
    "\n",
    "    models = [\n",
    "        ('Logistic Regression', LogisticRegression(), {\n",
    "    'penalty': ['l1', 'l2', 'elasticnet', 'none'],\n",
    "    'C': [0.1, 1.0, 10.0],\n",
    "    'solver': ['newton-cg', 'lbfgs', 'liblinear', 'sag', 'saga'],\n",
    "    'max_iter': [100, 1000, 10000]\n",
    "}),\n",
    "        ('Multinomial Naive Bayes', MultinomialNB(), {'alpha': [0.1, 0.5, 1.0]}),\n",
    "        ('Linear SVC', LinearSVC(), {\n",
    "    'penalty': ['l1', 'l2', 'elasticnet', 'none'],\n",
    "    'loss': ['hinge', 'squared_hinge'],\n",
    "    'C': [0.1, 1, 10],\n",
    "    'max_iter': [100, 1000, 10000]\n",
    "}),\n",
    "        ('Decision Tree', DecisionTreeClassifier(), {\n",
    "    'max_depth': [5, 10, 20, 30, 50, None],\n",
    "    'min_samples_split': [2, 5, 10, 15, 20],\n",
    "    'min_samples_leaf': [1, 2, 4, 8],\n",
    "    'max_features': ['auto', 'sqrt', 'log2', None],\n",
    "    'criterion': ['gini', 'entropy']\n",
    "}),\n",
    "        ('Random Forest', RandomForestClassifier(), {\n",
    "    'n_estimators': [100, 200, 300],\n",
    "    'max_depth': [10, 20, 30],\n",
    "    'min_samples_split': [2, 5, 10],\n",
    "    'min_samples_leaf': [1, 2, 4]\n",
    "})\n",
    "    ]\n",
    "\n",
    "    for name, model, param_grid in models:\n",
    "        grid = GridSearchCV(model, param_grid, cv=5, n_jobs=-1)\n",
    "        grid.fit(X_train, y_train)\n",
    "        y_pred = grid.predict(X_test)\n",
    "        score = accuracy_score(y_test, y_pred)\n",
    "        print(f'{name}: {score:.4f} (best parameters: {grid.best_params_})')\n",
    " \n",
    "    best_model = max(models, key=lambda x: GridSearchCV(x[1], x[2], cv=5, n_jobs=-1).fit(X_train, y_train).score(X_test, y_test))\n",
    "    print(f'\\nBest model: {best_model[0]}')\n",
    "    \n",
    "    # fit the best model to the full training data\n",
    "    best_model[1].fit(X, y)\n",
    "\n",
    "    return best_model[1]"
   ]
  },
  {
   "cell_type": "code",
   "execution_count": 23,
   "id": "47e04ba2",
   "metadata": {},
   "outputs": [
    {
     "name": "stdout",
     "output_type": "stream",
     "text": [
      "Logistic Regression: 0.8101 (best parameters: {'C': 10.0, 'max_iter': 100, 'penalty': 'l2', 'solver': 'sag'})\n",
      "Multinomial Naive Bayes: 0.7342 (best parameters: {'alpha': 0.1})\n",
      "Linear SVC: 0.8101 (best parameters: {'C': 1, 'loss': 'squared_hinge', 'max_iter': 10000, 'penalty': 'l2'})\n",
      "Decision Tree: 0.7215 (best parameters: {'criterion': 'gini', 'max_depth': None, 'max_features': 'auto', 'min_samples_leaf': 1, 'min_samples_split': 10})\n",
      "Random Forest: 0.7468 (best parameters: {'max_depth': 30, 'min_samples_leaf': 1, 'min_samples_split': 2, 'n_estimators': 200})\n",
      "\n",
      "Best model: Linear SVC\n"
     ]
    }
   ],
   "source": [
    "best_model = find_best_model(X, y)"
   ]
  },
  {
   "cell_type": "code",
   "execution_count": 24,
   "id": "fdefec39",
   "metadata": {},
   "outputs": [],
   "source": [
    "def chatbot_response(user_input):\n",
    "    input_text = vectorizer.transform([user_input])\n",
    "    predicted_intent = best_model.predict(input_text)[0]\n",
    "    \n",
    "    for intent in intents['intents']:\n",
    "        if intent['tag'] == predicted_intent:\n",
    "            response = random.choice(intent['responses'])\n",
    "            break\n",
    "            \n",
    "    return response"
   ]
  },
  {
   "cell_type": "code",
   "execution_count": 25,
   "id": "c6551a7f",
   "metadata": {},
   "outputs": [
    {
     "name": "stdout",
     "output_type": "stream",
     "text": [
      "Hello! I am a chatbot. How can I help you today? Type \"quit\" to exit.\n",
      "> hello\n",
      "Good to see you again!\n",
      "> how\n",
      "welcome, anything else i can assist you with?\n",
      "> why\n",
      "welcome, anything else i can assist you with?\n",
      "> who\n",
      "welcome, anything else i can assist you with?\n",
      "> where\n",
      "welcome, anything else i can assist you with?\n",
      "> location\n",
      "<a target=\"_blank\" href=\"ADD YOU GOOGLE MAP LINK HERE\"> here</a>\n",
      "> quit\n"
     ]
    }
   ],
   "source": [
    "print('Hello! I am a chatbot. How can I help you today? Type \"quit\" to exit.')\n",
    "while True:\n",
    "    user_input = input('> ')\n",
    "    if user_input.lower() == 'quit':\n",
    "        break\n",
    "    response = chatbot_response(user_input)\n",
    "    print(response)"
   ]
  },
  {
   "cell_type": "code",
   "execution_count": 8,
   "id": "34da903b",
   "metadata": {},
   "outputs": [],
   "source": [
    "import pickle\n",
    "\n",
    "\n",
    "with open('chatbot_model.pkl', 'wb') as f:\n",
    "    pickle.dump(best_model, f)\n",
    "\n",
    "\n",
    "with open('vectorizer.pkl', 'wb') as f:\n",
    "    pickle.dump(vectorizer, f)\n",
    "\n",
    "with open('intents.json', 'w') as f:\n",
    "    json.dump(intents, f)"
   ]
  }
 ],
 "metadata": {
  "kernelspec": {
   "display_name": "Python 3 (ipykernel)",
   "language": "python",
   "name": "python3"
  },
  "language_info": {
   "codemirror_mode": {
    "name": "ipython",
    "version": 3
   },
   "file_extension": ".py",
   "mimetype": "text/x-python",
   "name": "python",
   "nbconvert_exporter": "python",
   "pygments_lexer": "ipython3",
   "version": "3.10.9"
  }
 },
 "nbformat": 4,
 "nbformat_minor": 5
}
